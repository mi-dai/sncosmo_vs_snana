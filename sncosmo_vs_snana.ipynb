{
 "cells": [
  {
   "cell_type": "code",
   "execution_count": 1,
   "metadata": {},
   "outputs": [],
   "source": [
    "%load_ext autoreload\n",
    "%autoreload 2"
   ]
  },
  {
   "cell_type": "code",
   "execution_count": 2,
   "metadata": {},
   "outputs": [],
   "source": [
    "import sncosmo\n",
    "import numpy as np\n",
    "import pandas as pd\n",
    "import matplotlib.pyplot as plt\n",
    "import sncosmo_vs_snana as ss\n",
    "from sedfit.utils import register_bands_for_sncosmo"
   ]
  },
  {
   "cell_type": "code",
   "execution_count": 3,
   "metadata": {},
   "outputs": [],
   "source": [
    "register_bands_for_sncosmo()"
   ]
  },
  {
   "cell_type": "code",
   "execution_count": 4,
   "metadata": {},
   "outputs": [],
   "source": [
    "salt2par_sncosmo = ss.sncosmo_fitres_to_df('data/salt2pars_wang2009_BV_addLOSS.dat')\n",
    "salt2par_snana = ss.snana_fitres_to_df(['data/CfA3_Kyle.FITRES.TEXT','data/CSP_Kyle.FITRES.TEXT','data/CfA2_Kyle.FITRES.TEXT'])\n",
    "salt2par_snana['Name_upper'] = [x.upper() for x in salt2par_snana['CID']]"
   ]
  },
  {
   "cell_type": "code",
   "execution_count": 5,
   "metadata": {},
   "outputs": [],
   "source": [
    "common_list = ss.commonElements([salt2par_sncosmo.Name_upper.unique(),salt2par_snana.Name_upper.unique()])"
   ]
  },
  {
   "cell_type": "code",
   "execution_count": 6,
   "metadata": {},
   "outputs": [],
   "source": [
    "from matplotlib.backends.backend_pdf import PdfPages\n",
    "pdf = PdfPages('plots/lcplots.pdf')\n",
    "for name in common_list:\n",
    "    name = name.upper()\n",
    "    meta,lc = ss.get_photometry_single_sn(name,'data/snmeta_missingSNANA.csv','data/snlc_missingSNANA.csv')\n",
    "    for s in ss.commonElements([salt2par_sncosmo.loc[salt2par_sncosmo.Name_upper==name].Survey.unique(),\n",
    "                                salt2par_snana.loc[salt2par_snana.Name_upper==name].Survey.unique()]):\n",
    "        data = ss.convert_lc_for_sncosmo(lc.loc[lc.Survey==s])\n",
    "        psncosmo = salt2par_sncosmo.loc[(salt2par_sncosmo.Name_upper==name) & (salt2par_sncosmo.Survey==s)]\n",
    "        psnana = salt2par_snana.loc[(salt2par_snana.Name_upper ==name) & (salt2par_snana.Survey==s)]\n",
    "        models = []\n",
    "        for p,source in zip([psncosmo,psnana],['sncosmo','snana']):\n",
    "            pmap = ss.get_lcpar_map(source=source)\n",
    "            models.append(ss.update_sncosmo_model(p,pmap))\n",
    "        fig = ss.compare_model_sncosmo(data=data,models=models,model_label=['sncosmo','snana'],figtext=','.join([name,s]),\n",
    "                                       fname=pdf, format='pdf')\n",
    "pdf.close()"
   ]
  },
  {
   "cell_type": "code",
   "execution_count": null,
   "metadata": {},
   "outputs": [],
   "source": []
  }
 ],
 "metadata": {
  "kernelspec": {
   "display_name": "Python 3",
   "language": "python",
   "name": "python3"
  },
  "language_info": {
   "codemirror_mode": {
    "name": "ipython",
    "version": 3
   },
   "file_extension": ".py",
   "mimetype": "text/x-python",
   "name": "python",
   "nbconvert_exporter": "python",
   "pygments_lexer": "ipython3",
   "version": "3.7.3"
  }
 },
 "nbformat": 4,
 "nbformat_minor": 4
}
