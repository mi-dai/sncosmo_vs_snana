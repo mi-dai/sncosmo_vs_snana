{
 "cells": [
  {
   "cell_type": "code",
   "execution_count": 1,
   "metadata": {},
   "outputs": [],
   "source": [
    "%load_ext autoreload\n",
    "%autoreload 2"
   ]
  },
  {
   "cell_type": "code",
   "execution_count": 2,
   "metadata": {},
   "outputs": [],
   "source": [
    "import sncosmo\n",
    "import numpy as np\n",
    "import pandas as pd\n",
    "import matplotlib.pyplot as plt\n",
    "import sncosmo_vs_snana as ss\n",
    "from sedfit.utils import register_bands_for_sncosmo\n",
    "import glob\n",
    "from scipy.interpolate import interp1d\n"
   ]
  },
  {
   "cell_type": "code",
   "execution_count": 3,
   "metadata": {},
   "outputs": [],
   "source": [
    "register_bands_for_sncosmo()"
   ]
  },
  {
   "cell_type": "code",
   "execution_count": 4,
   "metadata": {},
   "outputs": [],
   "source": [
    "salt2par_sncosmo = ss.sncosmo_fitres_to_df('data/fitres_sncosmo/salt2pars_all_sncosmo.dat')\n",
    "salt2par_snana = ss.snana_fitres_to_df(glob.glob('data/fitres_snana/results/*.FITRES.TEXT'))\n",
    "mjdrange_snana = ss.get_snana_fitmjd_range(glob.glob('data/fitres_snana/results/*.LCPLOT.TEXT'))\n",
    "salt2par_snana = salt2par_snana.merge(mjdrange_snana,on=['CID','Survey'])\n",
    "# salt2par_sncosmo['Name_upper'] = ['SN'+x.upper() for x in salt2par_sncosmo['Name']]\n",
    "salt2par_snana['Name_upper'] = [x.upper() for x in salt2par_snana['CID']]"
   ]
  },
  {
   "cell_type": "code",
   "execution_count": 5,
   "metadata": {},
   "outputs": [],
   "source": [
    "salt2par_sncosmo.to_csv('data/salt2par_all_sncosmo.csv')\n",
    "salt2par_snana.to_csv('data/salt2par_all_snana.csv')"
   ]
  },
  {
   "cell_type": "code",
   "execution_count": 6,
   "metadata": {},
   "outputs": [],
   "source": [
    "common_list = ss.commonElements([salt2par_sncosmo.Name_upper.unique(),salt2par_snana.Name_upper.unique()])"
   ]
  },
  {
   "cell_type": "code",
   "execution_count": 7,
   "metadata": {},
   "outputs": [
    {
     "data": {
      "text/plain": [
       "(796, 812, 796)"
      ]
     },
     "execution_count": 7,
     "metadata": {},
     "output_type": "execute_result"
    }
   ],
   "source": [
    "len(common_list),len(salt2par_sncosmo.Name_upper.unique()),len(salt2par_snana.Name_upper.unique())"
   ]
  },
  {
   "cell_type": "code",
   "execution_count": 8,
   "metadata": {},
   "outputs": [],
   "source": [
    "difflist = set(list(salt2par_sncosmo.Name_upper.unique())) ^ set(list(salt2par_snana.Name_upper.unique()))"
   ]
  },
  {
   "cell_type": "code",
   "execution_count": 9,
   "metadata": {},
   "outputs": [
    {
     "data": {
      "text/plain": [
       "{'IPTF17DZ',\n",
       " 'SN1999CW',\n",
       " 'SN2001GC',\n",
       " 'SN2002AR',\n",
       " 'SN2003GQ',\n",
       " 'SN2004K',\n",
       " 'SN2005DF',\n",
       " 'SN2005GJ',\n",
       " 'SN2006DD',\n",
       " 'SN2006MR',\n",
       " 'SN2007FQ',\n",
       " 'SN2007FS',\n",
       " 'SN2008HA',\n",
       " 'SN2009HP',\n",
       " 'SN2010AE',\n",
       " 'SN2011GU'}"
      ]
     },
     "execution_count": 9,
     "metadata": {},
     "output_type": "execute_result"
    }
   ],
   "source": [
    "difflist"
   ]
  },
  {
   "cell_type": "code",
   "execution_count": 10,
   "metadata": {},
   "outputs": [],
   "source": [
    "# print('SN1999BH' in salt2par_sncosmo.Name_upper.unique())\n",
    "# print('SN1999BH' in salt2par_snana.Name_upper.unique())"
   ]
  },
  {
   "cell_type": "code",
   "execution_count": 11,
   "metadata": {},
   "outputs": [],
   "source": [
    "# plotlist = ['SN2005KU']\n",
    "plotlist = common_list"
   ]
  },
  {
   "cell_type": "code",
   "execution_count": 12,
   "metadata": {
    "scrolled": true
   },
   "outputs": [
    {
     "name": "stderr",
     "output_type": "stream",
     "text": [
      "/home/mi/anaconda3/lib/python3.7/site-packages/IPython/core/interactiveshell.py:2714: DtypeWarning: Columns (10,11) have mixed types.Specify dtype option on import or set low_memory=False.\n",
      "  interactivity=interactivity, compiler=compiler, result=result)\n"
     ]
    },
    {
     "name": "stdout",
     "output_type": "stream",
     "text": [
      "0 ASASSN-13CH 0\n",
      "1 ASASSN-14AD 0\n",
      "2 ASASSN-14FA 0\n",
      "3 ASASSN-14LP 0\n",
      "4 ASASSN-15AJ 0\n",
      "5 ASASSN-15AR 0\n",
      "6 ASASSN-15BC 0\n",
      "7 ASASSN-15BM 0\n",
      "8 ASASSN-15FA 0\n",
      "9 ASASSN-15FS 0\n",
      "10 ASASSN-15GA 0\n",
      "11 ASASSN-15GO 0\n",
      "12 ASASSN-15HG 0\n",
      "13 ASASSN-15HY 0\n",
      "14 ASASSN-15IL 0\n",
      "15 ASASSN-15JL 0\n",
      "16 ASASSN-15JT 0\n",
      "17 ASASSN-15KX 0\n",
      "18 ASASSN-15LA 0\n",
      "19 ASASSN-15LG 0\n",
      "20 ASASSN-15LU 0\n",
      "21 ASASSN-15MF 0\n",
      "22 ASASSN-15MG 0\n",
      "23 ASASSN-15MI 0\n",
      "24 ASASSN-15NP 0\n",
      "25 ASASSN-15NQ 0\n",
      "26 ASASSN-15NR 0\n",
      "27 ASASSN-15OD 0\n",
      "28 ASASSN-15OH 0\n",
      "29 ASASSN-15PM 0\n",
      "30 ASASSN-15PN 0\n",
      "31 ASASSN-15PR 0\n",
      "32 ASASSN-15PY 0\n",
      "33 ASASSN-15QC 0\n",
      "34 ASASSN-15RQ 0\n",
      "35 ASASSN-15RW 0\n",
      "36 ASASSN-15SB 0\n",
      "37 ASASSN-15SF 0\n",
      "38 ASASSN-15SO 0\n",
      "39 ASASSN-15SS 0\n",
      "40 ASASSN-15TG 0\n",
      "41 ASASSN-15TI 0\n",
      "42 ASASSN-15TS 0\n",
      "43 ASASSN-15TZ 0\n",
      "44 ASASSN-15UU 0\n",
      "45 ASASSN-15UV 0\n",
      "46 ASASSN-15UW 0\n",
      "47 ASASSN-16AJ 0\n",
      "48 ASASSN-16AV 0\n",
      "49 ASASSN-16AY 0\n",
      "50 ASASSN-16BC 0\n",
      "51 ASASSN-16BQ 0\n",
      "52 ASASSN-16BR 0\n",
      "53 ASASSN-16CH 0\n",
      "54 ASASSN-16CT 0\n",
      "55 ASASSN-16CY 0\n",
      "56 ASASSN-16DB 0\n",
      "57 ASASSN-16DW 0\n",
      "58 ASASSN-16EJ 0\n",
      "59 ASASSN-16EM 0\n",
      "60 ASASSN-16ET 0\n",
      "61 ASASSN-16EX 0\n",
      "62 ASASSN-16FO 0\n",
      "63 ASASSN-16FS 0\n",
      "64 ASASSN-16HC 0\n",
      "65 ASASSN-16HZ 0\n",
      "66 ASASSN-16IP 0\n",
      "67 ASASSN-16JF 0\n",
      "68 ASASSN-16LA 0\n",
      "69 ASASSN-16LG 0\n",
      "70 ASASSN-16OZ 0\n",
      "71 ASASSN-17AJ 0\n",
      "72 ASASSN-17AT 0\n",
      "73 ASASSN-17BD 0\n",
      "74 ASASSN-17BS 0\n",
      "75 ASASSN-17CO 0\n",
      "76 ASASSN-17EB 0\n",
      "77 ASASSN-17FD 0\n",
      "78 AT2016AJL 0\n",
      "79 AT2016BLG 0\n",
      "80 AT2016BLN 0\n",
      "81 AT2016COR 0\n",
      "82 AT2016CVV 0\n",
      "83 AT2016CVW 0\n",
      "84 AT2016CYT 0\n",
      "85 AT2016EOA 0\n",
      "86 AT2016EWS 0\n",
      "87 AT2016FBK 0\n",
      "88 AT2016GHQ 0\n",
      "89 AT2016GKY 0\n",
      "90 AT2016GMG 0\n",
      "91 AT2016GSU 0\n",
      "92 AT2016HNK 0\n",
      "93 AT2016HNS 0\n",
      "94 AT2016HTM 0\n",
      "95 AT2016HTN 0\n",
      "96 AT2017CFB 0\n",
      "97 AT2017CFC 0\n",
      "98 AT2017CFD 0\n",
      "99 AT2017DFQ 0\n",
      "100 AT2017LM 1\n",
      "101 AT2017NS 1\n",
      "102 AT2017OZ 1\n",
      "103 AT2017PO 1\n",
      "104 AT2017WB 1\n",
      "105 AT2017YA 1\n",
      "106 AT2017YK 1\n",
      "107 AT2017ZD 1\n",
      "108 ATLAS16AGV 1\n",
      "109 ATLAS16AHJ 1\n",
      "110 ATLAS16BDG 1\n",
      "111 ATLAS16BWU 1\n",
      "112 ATLAS16CPU 1\n",
      "113 ATLAS16CXR 1\n",
      "114 ATLAS16DOD 1\n",
      "115 ATLAS16DPB 1\n",
      "116 ATLAS16DQF 1\n",
      "117 ATLAS16DTF 1\n",
      "118 ATLAS16EEJ 1\n",
      "119 ATLAS17AJN 1\n",
      "120 ATLAS17AJS 1\n",
      "121 ATLAS17AXB 1\n",
      "122 ATLAS17BAS 1\n",
      "123 ATLAS17DZG 1\n",
      "124 CSS140914 1\n",
      "125 CSS151120 1\n",
      "126 CSS160129 1\n",
      "127 CSS160428 1\n",
      "128 CSS161013 1\n",
      "129 GAIA16ACV 1\n",
      "130 GAIA16AGF 1\n",
      "131 GAIA16AKI 1\n",
      "132 GAIA16BBA 1\n",
      "133 GAIA17BCI 1\n",
      "134 IPTF13DGE 1\n",
      "135 IPTF13EBH 1\n",
      "136 IPTF14ATG 1\n",
      "137 IPTF16AUF 1\n",
      "138 IPTF17FS 1\n",
      "139 LSQ11OT 1\n",
      "140 LSQ13CRF 1\n",
      "141 LSQ13RY 1\n",
      "142 MASTERJ011330.63 1\n",
      "143 MASTERJ013415.01 1\n",
      "144 MASTERJ083256.92 1\n",
      "145 MASTERJ151647.17 1\n",
      "146 MASTERJ222232.87 1\n",
      "147 PS1-14XW 1\n",
      "148 PS15ADH 1\n",
      "149 PS15AHS 1\n",
      "150 PS15AII 1\n",
      "151 PS15AKF 1\n",
      "152 PS15ASB 1\n",
      "153 PS15ATX 1\n",
      "154 PS15BBN 1\n",
      "155 PS15BDR 1\n",
      "156 PS15BIF 1\n",
      "157 PS15BJG 1\n",
      "158 PS15BRR 1\n",
      "159 PS15BSQ 1\n",
      "160 PS15BST 1\n",
      "161 PS15BWH 1\n",
      "162 PS15BZZ 1\n",
      "163 PS15CFN 1\n",
      "164 PS15CGE 1\n",
      "165 PS15CKU 1\n",
      "166 PS15CMS 1\n",
      "167 PS15CWX 1\n",
      "168 PS15CZE 1\n",
      "169 PS15DPL 1\n",
      "170 PS15MT 1\n",
      "171 PS15ZN 1\n",
      "172 PS16AER 1\n",
      "173 PS16AMF 1\n",
      "174 PS16AXI 1\n",
      "175 PS16AYD 1\n",
      "176 PS16BBY 1\n",
      "177 PS16BNZ 1\n",
      "178 PS16CCN 1\n",
      "179 PS16CQA 1\n",
      "180 PS16CVC 1\n",
      "181 PS16DNP 1\n",
      "182 PS16DRF 1\n",
      "183 PS16EJH 1\n",
      "184 PS16EL 1\n",
      "185 PS16EM 1\n",
      "186 PS16EQV 1\n",
      "187 PS16EVK 1\n",
      "188 PS16EZ 1\n",
      "189 PS16FA 1\n",
      "190 PS16FBB 1\n",
      "191 PS16N 1\n",
      "192 PS17AKJ 1\n",
      "193 PS17BII 1\n",
      "194 PS17CJO 1\n",
      "195 PS17CKG 1\n",
      "196 PS17TN 1\n",
      "197 PS17YT 1\n",
      "198 PSNJ0107203 1\n",
      "199 PSNJ0153424 1\n",
      "200 PSNJ0252467 2\n",
      "201 PSNJ0309425 2\n",
      "202 PSNJ0859349 2\n",
      "203 PSNJ1204051 2\n",
      "204 PSNJ1300323 2\n",
      "205 PSNJ1602512 2\n",
      "206 PSNJ1628383 2\n",
      "207 PSNJ2043531 2\n",
      "208 PSNJ2310226 2\n",
      "209 PSNJ2352371 2\n",
      "210 PTF10BJS 2\n",
      "211 PTF10ICB 2\n",
      "212 PTSS-16EFW 2\n",
      "213 PTSS-17NIQ 2\n",
      "214 SN1990AF 2\n",
      "215 SN1990O 2\n",
      "216 SN1990T 2\n",
      "217 SN1990Y 2\n",
      "218 SN1991AG 2\n",
      "219 SN1991S 2\n",
      "220 SN1991U 2\n",
      "221 SN1992AE 2\n",
      "222 SN1992AG 2\n",
      "223 SN1992AL 2\n",
      "224 SN1992AQ 2\n",
      "225 SN1992AU 2\n",
      "226 SN1992BC 2\n",
      "227 SN1992BG 2\n",
      "228 SN1992BH 2\n",
      "229 SN1992BK 2\n",
      "230 SN1992BL 2\n",
      "231 SN1992BO 2\n",
      "232 SN1992BP 2\n",
      "233 SN1992BR 2\n",
      "234 SN1992BS 2\n",
      "235 SN1992J 2\n",
      "236 SN1992K 2\n",
      "237 SN1992P 2\n",
      "238 SN1993AC 2\n",
      "239 SN1993AE 2\n",
      "240 SN1993AG 2\n",
      "241 SN1993AH 2\n",
      "242 SN1993B 2\n",
      "243 SN1993H 2\n",
      "244 SN1993O 2\n",
      "245 SN1994AE 2\n",
      "246 SN1994M 2\n",
      "247 SN1994Q 2\n",
      "248 SN1994S 2\n",
      "249 SN1994T 2\n",
      "250 SN1995AC 2\n",
      "251 SN1995AK 2\n",
      "252 SN1995AL 2\n",
      "253 SN1995BD 2\n",
      "254 SN1995D 2\n",
      "255 SN1995E 2\n",
      "256 SN1996AB 2\n",
      "257 SN1996AI 2\n",
      "258 SN1996BK 2\n",
      "259 SN1996BL 2\n",
      "260 SN1996BO 2\n",
      "261 SN1996BV 2\n",
      "262 SN1996C 2\n",
      "263 SN1996X 2\n",
      "264 SN1996Z 2\n",
      "265 SN1997BP 2\n",
      "266 SN1997BQ 2\n",
      "267 SN1997BR 2\n",
      "268 SN1997CN 2\n",
      "269 SN1997CW 2\n",
      "270 SN1997DG 2\n",
      "271 SN1997DO 2\n",
      "272 SN1997DT 2\n",
      "273 SN1997E 2\n",
      "274 SN1997Y 2\n",
      "275 SN1998AB 2\n",
      "276 SN1998BP 2\n",
      "277 SN1998CO 2\n",
      "278 SN1998D 2\n",
      "279 SN1998DE 2\n",
      "280 SN1998DH 2\n",
      "281 SN1998DK 2\n",
      "282 SN1998DM 2\n",
      "283 SN1998DX 2\n",
      "284 SN1998EC 2\n",
      "285 SN1998EF 2\n",
      "286 SN1998EG 2\n",
      "287 SN1998ES 2\n",
      "288 SN1998V 2\n",
      "289 SN1999AA 2\n",
      "290 SN1999AC 2\n",
      "291 SN1999BH 2\n",
      "292 SN1999BY 2\n",
      "293 SN1999CC 2\n",
      "294 SN1999CL 2\n",
      "295 SN1999CP 2\n",
      "296 SN1999DA 2\n",
      "297 SN1999DG 2\n",
      "298 SN1999DK 2\n",
      "299 SN1999DQ 2\n",
      "300 SN1999EF 3\n",
      "301 SN1999EJ 3\n",
      "302 SN1999EK 3\n",
      "303 SN1999GD 3\n",
      "304 SN1999GH 3\n",
      "305 SN1999GP 3\n",
      "306 SN1999X 3\n",
      "307 SN2000B 3\n",
      "308 SN2000CE 3\n",
      "309 SN2000CF 3\n",
      "310 SN2000CN 3\n",
      "311 SN2000CP 3\n",
      "312 SN2000CU 3\n",
      "313 SN2000CW 3\n",
      "314 SN2000CX 3\n",
      "315 SN2000DG 3\n",
      "316 SN2000DK 3\n",
      "317 SN2000DM 3\n",
      "318 SN2000DN 3\n",
      "319 SN2000DR 3\n",
      "320 SN2000FA 3\n",
      "321 SN2001AH 3\n",
      "322 SN2001AY 3\n",
      "323 SN2001AZ 3\n",
      "324 SN2001BF 3\n",
      "325 SN2001BG 3\n",
      "326 SN2001BP 3\n",
      "327 SN2001BR 3\n",
      "328 SN2001C 3\n",
      "329 SN2001CJ 3\n",
      "330 SN2001CK 3\n",
      "331 SN2001CP 3\n",
      "Error in CfA3-B4Shooter band lc\n",
      "332 SN2001DA 3\n",
      "333 SN2001DL 3\n",
      "334 SN2001E 3\n",
      "335 SN2001EH 3\n",
      "336 SN2001EN 3\n",
      "337 SN2001EP 3\n",
      "338 SN2001EX 3\n",
      "339 SN2001FE 3\n",
      "340 SN2001FH 3\n",
      "341 SN2001G 3\n",
      "342 SN2001GB 3\n",
      "343 SN2001IC 3\n",
      "Error in CfA3-R4Shooter band lc\n",
      "344 SN2001IE 3\n",
      "345 SN2001N 3\n",
      "346 SN2001V 3\n",
      "347 SN2002AW 3\n",
      "348 SN2002BF 3\n",
      "Error in CfA3-B4Shooter band lc\n",
      "349 SN2002BO 3\n",
      "350 SN2002BZ 3\n",
      "351 SN2002CD 3\n",
      "352 SN2002CF 3\n",
      "353 SN2002CK 3\n",
      "354 SN2002CR 3\n",
      "355 SN2002CS 3\n",
      "356 SN2002CU 3\n",
      "357 SN2002CX 3\n",
      "358 SN2002DE 3\n",
      "359 SN2002DJ 3\n",
      "360 SN2002DL 3\n",
      "361 SN2002DO 3\n",
      "362 SN2002DP 3\n",
      "363 SN2002EB 3\n",
      "364 SN2002EF 3\n",
      "365 SN2002EL 3\n",
      "366 SN2002ER 3\n",
      "367 SN2002ES 3\n",
      "368 SN2002EU 3\n",
      "369 SN2002FB 3\n",
      "370 SN2002FK 3\n",
      "371 SN2002G 3\n",
      "372 SN2002HA 3\n",
      "373 SN2002HD 3\n",
      "374 SN2002HE 3\n",
      "375 SN2002HU 3\n",
      "376 SN2002HW 3\n",
      "377 SN2002JG 3\n",
      "378 SN2002JY 3\n",
      "379 SN2002KF 3\n",
      "380 SN2003AE 3\n",
      "381 SN2003AI 3\n",
      "382 SN2003CG 3\n",
      "383 SN2003CH 3\n",
      "384 SN2003CQ 3\n",
      "385 SN2003D 3\n",
      "386 SN2003DU 3\n",
      "387 SN2003FA 3\n",
      "388 SN2003GN 3\n",
      "389 SN2003GS 3\n",
      "390 SN2003GT 3\n",
      "391 SN2003HE 3\n",
      "392 SN2003HU 3\n",
      "393 SN2003HV 3\n",
      "394 SN2003IC 3\n",
      "395 SN2003IT 3\n",
      "396 SN2003IV 3\n",
      "397 SN2003K 3\n",
      "398 SN2003KC 3\n",
      "399 SN2003KF 3\n",
      "400 SN2003U 4\n",
      "401 SN2003W 4\n",
      "402 SN2003Y 4\n",
      "403 SN2004AP 4\n",
      "404 SN2004AS 4\n",
      "405 SN2004AT 4\n",
      "406 SN2004BD 4\n",
      "407 SN2004BG 4\n",
      "408 SN2004BK 4\n",
      "409 SN2004BR 4\n",
      "410 SN2004BV 4\n",
      "411 SN2004BW 4\n",
      "412 SN2004DT 4\n",
      "413 SN2004E 4\n",
      "414 SN2004EF 4\n",
      "415 SN2004EO 4\n",
      "416 SN2004EY 4\n",
      "417 SN2004FU 4\n",
      "418 SN2004FZ 4\n",
      "419 SN2004GC 4\n",
      "420 SN2004GS 4\n",
      "421 SN2004GU 4\n",
      "422 SN2004L 4\n",
      "423 SN2004S 4\n",
      "424 SN2005A 4\n",
      "425 SN2005AG 4\n",
      "426 SN2005AL 4\n",
      "427 SN2005AM 4\n",
      "428 SN2005BC 4\n",
      "429 SN2005BE 4\n",
      "430 SN2005BG 4\n",
      "431 SN2005BL 4\n",
      "432 SN2005BO 4\n",
      "433 SN2005CC 4\n",
      "434 SN2005CF 4\n",
      "435 SN2005DE 4\n",
      "436 SN2005DM 4\n",
      "437 SN2005DV 4\n",
      "438 SN2005EL 4\n",
      "439 SN2005EQ 4\n",
      "440 SN2005EU 4\n",
      "441 SN2005EW 4\n",
      "442 SN2005HC 4\n",
      "443 SN2005HF 4\n",
      "444 SN2005HJ 4\n",
      "445 SN2005HK 4\n",
      "446 SN2005IQ 4\n",
      "447 SN2005IR 4\n",
      "448 SN2005KC 4\n",
      "449 SN2005KE 4\n",
      "450 SN2005KI 4\n",
      "451 SN2005KU 4\n",
      "452 SN2005LS 4\n",
      "453 SN2005LU 4\n",
      "454 SN2005LZ 4\n",
      "455 SN2005M 4\n",
      "456 SN2005MC 4\n",
      "457 SN2005MS 4\n",
      "458 SN2005MZ 4\n",
      "459 SN2005NA 4\n",
      "460 SN2005W 4\n",
      "461 SN2006AC 4\n",
      "462 SN2006AH 4\n",
      "463 SN2006AK 4\n",
      "464 SN2006AL 4\n",
      "465 SN2006AN 4\n",
      "466 SN2006AR 4\n",
      "467 SN2006AX 4\n",
      "468 SN2006AZ 4\n",
      "469 SN2006B 4\n",
      "470 SN2006BB 4\n",
      "471 SN2006BD 4\n",
      "472 SN2006BH 4\n",
      "473 SN2006BK 4\n",
      "474 SN2006BQ 4\n",
      "475 SN2006BR 4\n",
      "476 SN2006BT 4\n",
      "477 SN2006BU 4\n",
      "478 SN2006BW 4\n",
      "479 SN2006BZ 4\n",
      "480 SN2006CC 4\n",
      "481 SN2006CF 4\n",
      "482 SN2006CG 4\n",
      "483 SN2006CJ 4\n",
      "484 SN2006CM 4\n",
      "485 SN2006CP 4\n",
      "486 SN2006CQ 4\n",
      "487 SN2006CS 4\n",
      "488 SN2006CT 4\n",
      "489 SN2006CZ 4\n",
      "490 SN2006D 4\n",
      "491 SN2006DM 4\n",
      "492 SN2006E 4\n"
     ]
    },
    {
     "name": "stderr",
     "output_type": "stream",
     "text": [
      "/home/mi/anaconda3/lib/python3.7/site-packages/ipykernel_launcher.py:51: RuntimeWarning: divide by zero encountered in double_scalars\n",
      "/home/mi/anaconda3/lib/python3.7/site-packages/ipykernel_launcher.py:55: RuntimeWarning: divide by zero encountered in double_scalars\n"
     ]
    },
    {
     "name": "stdout",
     "output_type": "stream",
     "text": [
      "493 SN2006EF 4\n",
      "494 SN2006EJ 4\n",
      "495 SN2006EM 4\n",
      "496 SN2006EN 4\n",
      "497 SN2006EQ 4\n",
      "498 SN2006ET 4\n",
      "499 SN2006EU 4\n",
      "500 SN2006EV 5\n",
      "501 SN2006FW 5\n",
      "502 SN2006GJ 5\n",
      "503 SN2006GR 5\n",
      "504 SN2006GT 5\n",
      "505 SN2006H 5\n",
      "506 SN2006HA 5\n",
      "507 SN2006HB 5\n",
      "508 SN2006HN 5\n",
      "509 SN2006HX 5\n",
      "510 SN2006IS 5\n",
      "511 SN2006JE 5\n",
      "512 SN2006KE 5\n",
      "513 SN2006KF 5\n",
      "514 SN2006LE 5\n",
      "515 SN2006LF 5\n",
      "516 SN2006LU 5\n",
      "517 SN2006MO 5\n",
      "518 SN2006MP 5\n",
      "519 SN2006MQ 5\n",
      "520 SN2006N 5\n",
      "521 SN2006NZ 5\n",
      "522 SN2006OA 5\n",
      "523 SN2006OB 5\n",
      "524 SN2006ON 5\n",
      "525 SN2006OR 5\n",
      "526 SN2006OS 5\n",
      "527 SN2006OT 5\n",
      "528 SN2006OU 5\n",
      "529 SN2006PY 5\n",
      "530 SN2006QO 5\n",
      "531 SN2006S 5\n",
      "532 SN2006SR 5\n",
      "533 SN2006TD 5\n",
      "534 SN2006TE 5\n",
      "535 SN2006X 5\n",
      "536 SN2007A 5\n",
      "537 SN2007AE 5\n",
      "538 SN2007AF 5\n",
      "539 SN2007AI 5\n",
      "540 SN2007AJ 5\n",
      "541 SN2007AL 5\n",
      "542 SN2007AP 5\n",
      "543 SN2007AR 5\n",
      "544 SN2007AS 5\n",
      "545 SN2007AU 5\n",
      "546 SN2007AX 5\n",
      "547 SN2007BA 5\n",
      "548 SN2007BC 5\n",
      "549 SN2007BD 5\n",
      "550 SN2007BJ 5\n",
      "551 SN2007BM 5\n",
      "552 SN2007BZ 5\n",
      "553 SN2007CA 5\n",
      "554 SN2007CB 5\n",
      "555 SN2007CC 5\n",
      "556 SN2007CF 5\n",
      "557 SN2007CG 5\n",
      "558 SN2007CI 5\n",
      "559 SN2007CN 5\n",
      "Error in CfA4-BKeplercam band lc\n",
      "560 SN2007CO 5\n",
      "561 SN2007CP 5\n",
      "562 SN2007CQ 5\n",
      "563 SN2007CS 5\n",
      "564 SN2007CV 5\n",
      "565 SN2007EV 5\n",
      "566 SN2007F 5\n",
      "567 SN2007FB 5\n",
      "568 SN2007FR 5\n",
      "569 SN2007GI 5\n",
      "570 SN2007H 5\n",
      "571 SN2007HG 5\n",
      "572 SN2007HJ 5\n",
      "573 SN2007HU 5\n",
      "574 SN2007HX 5\n",
      "575 SN2007IF 5\n",
      "576 SN2007IR 5\n",
      "577 SN2007IS 5\n",
      "578 SN2007JD 5\n",
      "579 SN2007JG 5\n",
      "580 SN2007JH 5\n",
      "581 SN2007KD 5\n",
      "582 SN2007KF 5\n",
      "583 SN2007KG 5\n",
      "584 SN2007KH 5\n",
      "585 SN2007KK 5\n",
      "586 SN2007LE 5\n",
      "587 SN2007MM 5\n",
      "588 SN2007N 5\n",
      "589 SN2007NQ 5\n",
      "590 SN2007O 5\n",
      "591 SN2007OB 5\n",
      "592 SN2007OL 5\n",
      "593 SN2007ON 5\n",
      "594 SN2007QE 5\n",
      "595 SN2007R 5\n",
      "596 SN2007RX 5\n",
      "597 SN2007S 5\n",
      "598 SN2007SO 5\n",
      "599 SN2007SR 5\n",
      "600 SN2007SS 6\n",
      "601 SN2007ST 6\n",
      "602 SN2007SU 6\n",
      "603 SN2007SW 6\n",
      "604 SN2007UX 6\n",
      "605 SN2008A 6\n",
      "606 SN2008AC 6\n",
      "607 SN2008AD 6\n",
      "608 SN2008AE 6\n",
      "609 SN2008AF 6\n",
      "610 SN2008AI 6\n",
      "611 SN2008AR 6\n",
      "612 SN2008AT 6\n",
      "613 SN2008BC 6\n",
      "614 SN2008BD 6\n",
      "615 SN2008BF 6\n",
      "616 SN2008BI 6\n",
      "617 SN2008BQ 6\n",
      "618 SN2008BT 6\n",
      "619 SN2008BW 6\n",
      "620 SN2008BY 6\n",
      "621 SN2008BZ 6\n",
      "622 SN2008C 6\n",
      "623 SN2008CC 6\n",
      "624 SN2008CD 6\n",
      "625 SN2008CF 6\n",
      "626 SN2008CL 6\n",
      "627 SN2008CM 6\n",
      "628 SN2008DR 6\n",
      "629 SN2008DS 6\n",
      "630 SN2008DT 6\n",
      "631 SN2008DX 6\n",
      "632 SN2008EC 6\n",
      "633 SN2008EI 6\n",
      "634 SN2008FF 6\n",
      "635 SN2008FL 6\n",
      "636 SN2008FP 6\n",
      "637 SN2008FR 6\n",
      "638 SN2008FU 6\n",
      "639 SN2008FW 6\n",
      "640 SN2008GB 6\n",
      "641 SN2008GG 6\n",
      "642 SN2008GL 6\n",
      "643 SN2008GO 6\n",
      "644 SN2008GP 6\n",
      "645 SN2008HJ 6\n",
      "646 SN2008HM 6\n",
      "647 SN2008HS 6\n",
      "648 SN2008HU 6\n",
      "649 SN2008HV 6\n",
      "650 SN2008IA 6\n",
      "651 SN2008J 6\n"
     ]
    },
    {
     "name": "stderr",
     "output_type": "stream",
     "text": [
      "/home/mi/anaconda3/lib/python3.7/site-packages/ipykernel_launcher.py:51: RuntimeWarning: divide by zero encountered in double_scalars\n"
     ]
    },
    {
     "name": "stdout",
     "output_type": "stream",
     "text": [
      "652 SN2008L 6\n",
      "653 SN2008O 6\n",
      "654 SN2008Q 6\n",
      "655 SN2008R 6\n",
      "656 SN2008Y 6\n",
      "657 SN2008Z 6\n",
      "658 SN2009AA 6\n",
      "659 SN2009AB 6\n",
      "660 SN2009AD 6\n",
      "661 SN2009AG 6\n",
      "662 SN2009AL 6\n",
      "663 SN2009AN 6\n",
      "664 SN2009BV 6\n",
      "665 SN2009CZ 6\n",
      "666 SN2009D 6\n",
      "667 SN2009DC 6\n",
      "668 SN2009DO 6\n",
      "669 SN2009DS 6\n",
      "670 SN2009F 6\n",
      "671 SN2009FV 6\n",
      "672 SN2009GF 6\n",
      "673 SN2009I 6\n",
      "674 SN2009IG 6\n",
      "675 SN2009J 6\n",
      "676 SN2009JB 6\n",
      "677 SN2009JR 6\n",
      "678 SN2009KK 6\n",
      "679 SN2009KQ 6\n",
      "680 SN2009LE 6\n",
      "681 SN2009LF 6\n",
      "682 SN2009LI 6\n",
      "683 SN2009NA 6\n",
      "684 SN2009NQ 6\n",
      "685 SN2009P 6\n",
      "686 SN2009Y 6\n",
      "687 SN2010A 6\n",
      "688 SN2010AG 6\n",
      "689 SN2010AI 6\n",
      "690 SN2010CR 6\n",
      "691 SN2010DT 6\n",
      "692 SN2010DW 6\n",
      "693 SN2010EV 6\n",
      "694 SN2010GN 6\n",
      "695 SN2010GP 6\n",
      "696 SN2010H 6\n",
      "697 SN2010IH 6\n",
      "698 SN2010JN 6\n",
      "699 SN2010KG 6\n",
      "700 SN2010KO 7\n",
      "701 SN2010Y 7\n",
      "702 SN2011AA 7\n",
      "703 SN2011AO 7\n",
      "704 SN2011AT 7\n",
      "705 SN2011B 7\n",
      "706 SN2011BY 7\n",
      "707 SN2011DE 7\n",
      "708 SN2011FE 7\n",
      "709 SN2011FS 7\n",
      "710 SN2011HB 7\n",
      "711 SN2011IA 7\n",
      "712 SN2011IM 7\n",
      "713 SN2011M 7\n",
      "714 SN2012BL 7\n",
      "715 SN2012CP 7\n",
      "716 SN2012DA 7\n",
      "717 SN2012FR 7\n",
      "718 SN2012HR 7\n",
      "719 SN2012HT 7\n",
      "720 SN2012V 7\n",
      "721 SN2013AA 7\n",
      "722 SN2013AG 7\n",
      "723 SN2013CS 7\n",
      "724 SN2013DY 7\n",
      "725 SN2013E 7\n",
      "726 SN2013EH 7\n",
      "727 SN2013EU 7\n",
      "728 SN2013EX 7\n",
      "729 SN2013FN 7\n",
      "730 SN2013FW 7\n",
      "731 SN2013FY 7\n",
      "732 SN2013GH 7\n",
      "733 SN2013GS 7\n",
      "734 SN2013GY 7\n",
      "735 SN2013HN 7\n",
      "736 SN2013Q 7\n",
      "737 SN2014AO 7\n",
      "738 SN2014AP 7\n",
      "739 SN2014AT 7\n",
      "740 SN2014BV 7\n",
      "741 SN2014CD 7\n",
      "742 SN2014DG 7\n",
      "743 SN2014I 7\n",
      "744 SN2014R 7\n",
      "745 SN2015AK 7\n",
      "746 SN2015F 7\n",
      "747 SN2015I 7\n",
      "748 SN2016AFK 7\n",
      "749 SN2016AJF 7\n",
      "750 SN2016AQA 7\n",
      "751 SN2016AQB 7\n",
      "752 SN2016AQT 7\n",
      "753 SN2016ARC 7\n",
      "754 SN2016ASF 7\n",
      "755 SN2016AYG 7\n",
      "756 SN2016BLC 7\n",
      "757 SN2016BLH 7\n",
      "758 SN2016BLM 7\n",
      "759 SN2016COJ 7\n",
      "760 SN2016CUV 7\n",
      "761 SN2016EJA 7\n",
      "762 SN2016ESH 7\n",
      "763 SN2016F 7\n",
      "764 SN2016GFR 7\n",
      "765 SN2016GLP 7\n",
      "766 SN2016GLZ 7\n",
      "767 SN2016GMB 7\n",
      "768 SN2016GRZ 7\n",
      "769 SN2016HHV 7\n",
      "770 SN2016HPX 7\n",
      "771 SN2016IXF 7\n",
      "772 SN2016W 7\n",
      "773 SN2017CII 7\n",
      "774 SN2017CIY 7\n",
      "775 SN2017CJV 7\n",
      "776 SN2017CKX 7\n",
      "777 SN2017CNE 7\n",
      "778 SN2017COA 7\n",
      "779 SN2017CPU 7\n",
      "780 SN2017DEZ 7\n",
      "781 SN2017DFU 7\n",
      "782 SN2017DGI 7\n",
      "783 SN2017DRH 7\n",
      "784 SN2017HN 7\n",
      "785 SN2017JL 7\n",
      "786 SN2017LC 7\n",
      "787 SN2017MF 7\n",
      "788 SN2017MS 7\n",
      "789 SN2017MU 7\n",
      "790 SN2017NW 7\n",
      "791 SNF20071021-000 7\n",
      "792 SNF20080514-002 7\n",
      "793 SNF20080522-000 7\n",
      "794 SNF20080522-011 7\n",
      "795 SNF20080909-030 7\n"
     ]
    }
   ],
   "source": [
    "from matplotlib.backends.backend_pdf import PdfPages\n",
    "import gc\n",
    "meta_df = pd.read_csv('data/snmeta_all.csv',index_col=0) \n",
    "lc_df = pd.read_csv('data/snlc_all.csv',index_col=0)\n",
    "sn_per_pdf = 100\n",
    "\n",
    "pdfs = {}\n",
    "j = 0\n",
    "f = open('plots/plotlist.txt','w')\n",
    "for i,name in enumerate(np.sort(plotlist[0:])): #common_list:\n",
    "    if i==0 and j == 0:\n",
    "#         pdfs[0] = PdfPages('plots/plots_all_{:d}.pdf'.format(j))\n",
    "#         pdf = pdfs[0]\n",
    "        pdf = PdfPages('plots/plots_all_{:d}.pdf'.format(j))\n",
    "    if i//sn_per_pdf>0 and i%sn_per_pdf == 0:\n",
    "        pdf.close()\n",
    "        j += 1\n",
    "#         pdfs[j] = PdfPages('plots/plots_all_{:d}.pdf'.format(j))\n",
    "#         pdf = pdfs[j]\n",
    "        pdf = PdfPages('plots/plots_all_{:d}.pdf'.format(j))\n",
    "    print(i,name,j)\n",
    "    f.write('{} {} {}\\n'.format(i,name,j))\n",
    "    name = name.upper()\n",
    "    meta,lc = ss.get_photometry_single_sn(name,df_meta=meta_df,df_lc=lc_df)\n",
    "    for s in ss.commonElements([salt2par_sncosmo.loc[salt2par_sncosmo.Name_upper==name].Survey.unique(),\n",
    "                                salt2par_snana.loc[salt2par_snana.Name_upper==name].Survey.unique()]):\n",
    "        try:\n",
    "            data = ss.convert_lc_for_sncosmo(lc.loc[lc.Survey==s],select_filts='BVRIgriz')\n",
    "        except:\n",
    "            print(\"failed to get photometry for {}, {}\".format(name,s))\n",
    "            continue\n",
    "        psncosmo = salt2par_sncosmo.loc[(salt2par_sncosmo.Name_upper==name) & (salt2par_sncosmo.Survey==s)]\n",
    "        psnana = salt2par_snana.loc[(salt2par_snana.Name_upper ==name) & (salt2par_snana.Survey==s)]\n",
    "        models = []\n",
    "        text = ','.join([name,s])\n",
    "        text += '\\n'\n",
    "        for pname,source in zip([psncosmo,psnana],['sncosmo','snana']):\n",
    "            pmap = ss.get_lcpar_map(source=source)\n",
    "            model = ss.update_sncosmo_model(pname,pmap)\n",
    "            models.append(model)\n",
    "            text += '[{}] '.format(source)\n",
    "            for p,v in zip(model.param_names,model.parameters):\n",
    "                if p=='t0':\n",
    "                    text += '{}={:.2f}, '.format(p,v) \n",
    "                else:\n",
    "                    text += '{}={:.4f}, '.format(p,v)\n",
    "            if source == 'sncosmo':\n",
    "                text += 'fitbands={}, '.format(pname['bands'].values[0].strip())\n",
    "                text += '\\nchisq={:.2f}, '.format(pname['chisq'].values[0])\n",
    "                text += 'ndof={}, '.format(pname['ndof'].values[0])\n",
    "                text += 'reduced_chisq={:.2f}, '.format(pname['chisq'].values[0]/pname['ndof'].values[0])\n",
    "            elif source == 'snana':\n",
    "                text += '\\nchisq={:.2f}, '.format(pname['FITCHI2'].values[0])\n",
    "                text += 'ndof={}, '.format(pname['NDOF'].values[0])\n",
    "                text += 'reduced_chisq={:.2f}, '.format(pname['FITCHI2'].values[0]/pname['NDOF'].values[0])\n",
    "            text += 'first_fitmjd={:.2f}, '.format(pname['first_fitmjd'].values[0])\n",
    "            text += 'last_fitmjd={:.2f}'.format(pname['last_fitmjd'].values[0])\n",
    "            text += '\\n'\n",
    "\n",
    "        data_plot = data[[x.split('-')[1][0] in 'BVRIgriz' for x in data['Filter']]]           \n",
    "        fig = ss.compare_model_sncosmo(data=data_plot,models=models,model_label=['sncosmo','snana'],figtext=text,\n",
    "                                       fname=pdf, format='pdf')\n",
    "        plt.clf()\n",
    "        plt.close('all')\n",
    "        gc.collect()\n",
    "pdf.close()\n",
    "f.close()"
   ]
  },
  {
   "cell_type": "code",
   "execution_count": null,
   "metadata": {},
   "outputs": [],
   "source": []
  },
  {
   "cell_type": "code",
   "execution_count": 21,
   "metadata": {},
   "outputs": [
    {
     "name": "stderr",
     "output_type": "stream",
     "text": [
      "/home/mi/anaconda3/lib/python3.7/site-packages/pandas/plotting/_matplotlib/hist.py:309: MatplotlibDeprecationWarning: \n",
      "The 'normed' kwarg was deprecated in Matplotlib 2.1 and will be removed in 3.1. Use 'density' instead.\n",
      "  ax.hist(values, bins=bins, **kwds)\n",
      "/home/mi/anaconda3/lib/python3.7/site-packages/pandas/plotting/_matplotlib/hist.py:309: MatplotlibDeprecationWarning: \n",
      "The 'normed' kwarg was deprecated in Matplotlib 2.1 and will be removed in 3.1. Use 'density' instead.\n",
      "  ax.hist(values, bins=bins, **kwds)\n"
     ]
    },
    {
     "data": {
      "image/png": "[encoded data removed]",
      "text/plain": [
       "<Figure size 432x288 with 1 Axes>"
      ]
     },
     "metadata": {
      "needs_background": "light"
     },
     "output_type": "display_data"
    },
    {
     "name": "stderr",
     "output_type": "stream",
     "text": [
      "/home/mi/anaconda3/lib/python3.7/site-packages/pandas/plotting/_matplotlib/hist.py:309: MatplotlibDeprecationWarning: \n",
      "The 'normed' kwarg was deprecated in Matplotlib 2.1 and will be removed in 3.1. Use 'density' instead.\n",
      "  ax.hist(values, bins=bins, **kwds)\n",
      "/home/mi/anaconda3/lib/python3.7/site-packages/pandas/plotting/_matplotlib/hist.py:309: MatplotlibDeprecationWarning: \n",
      "The 'normed' kwarg was deprecated in Matplotlib 2.1 and will be removed in 3.1. Use 'density' instead.\n",
      "  ax.hist(values, bins=bins, **kwds)\n"
     ]
    },
    {
     "data": {
      "image/png": "[encoded data removed]",
      "text/plain": [
       "<Figure size 432x288 with 1 Axes>"
      ]
     },
     "metadata": {
      "needs_background": "light"
     },
     "output_type": "display_data"
    },
    {
     "name": "stderr",
     "output_type": "stream",
     "text": [
      "/home/mi/anaconda3/lib/python3.7/site-packages/ipykernel_launcher.py:16: MatplotlibDeprecationWarning: \n",
      "The 'normed' kwarg was deprecated in Matplotlib 2.1 and will be removed in 3.1. Use 'density' instead.\n",
      "  app.launch_new_instance()\n",
      "/home/mi/anaconda3/lib/python3.7/site-packages/ipykernel_launcher.py:16: MatplotlibDeprecationWarning: \n",
      "The 'normed' kwarg was deprecated in Matplotlib 2.1 and will be removed in 3.1. Use 'density' instead.\n",
      "  app.launch_new_instance()\n"
     ]
    },
    {
     "data": {
      "image/png": "[encoded data removed]",
      "text/plain": [
       "<Figure size 432x288 with 1 Axes>"
      ]
     },
     "metadata": {
      "needs_background": "light"
     },
     "output_type": "display_data"
    },
    {
     "name": "stderr",
     "output_type": "stream",
     "text": [
      "/home/mi/anaconda3/lib/python3.7/site-packages/ipykernel_launcher.py:30: MatplotlibDeprecationWarning: \n",
      "The 'normed' kwarg was deprecated in Matplotlib 2.1 and will be removed in 3.1. Use 'density' instead.\n",
      "/home/mi/anaconda3/lib/python3.7/site-packages/ipykernel_launcher.py:30: MatplotlibDeprecationWarning: \n",
      "The 'normed' kwarg was deprecated in Matplotlib 2.1 and will be removed in 3.1. Use 'density' instead.\n"
     ]
    },
    {
     "data": {
      "image/png": "[encoded data removed]",
      "text/plain": [
       "<Figure size 432x288 with 1 Axes>"
      ]
     },
     "metadata": {
      "needs_background": "light"
     },
     "output_type": "display_data"
    },
    {
     "name": "stderr",
     "output_type": "stream",
     "text": [
      "/home/mi/anaconda3/lib/python3.7/site-packages/ipykernel_launcher.py:30: MatplotlibDeprecationWarning: \n",
      "The 'normed' kwarg was deprecated in Matplotlib 2.1 and will be removed in 3.1. Use 'density' instead.\n",
      "/home/mi/anaconda3/lib/python3.7/site-packages/ipykernel_launcher.py:30: MatplotlibDeprecationWarning: \n",
      "The 'normed' kwarg was deprecated in Matplotlib 2.1 and will be removed in 3.1. Use 'density' instead.\n"
     ]
    },
    {
     "data": {
      "image/png": "[encoded data removed]",
      "text/plain": [
       "<Figure size 432x288 with 1 Axes>"
      ]
     },
     "metadata": {
      "needs_background": "light"
     },
     "output_type": "display_data"
    },
    {
     "name": "stderr",
     "output_type": "stream",
     "text": [
      "/home/mi/anaconda3/lib/python3.7/site-packages/ipykernel_launcher.py:35: MatplotlibDeprecationWarning: \n",
      "The 'normed' kwarg was deprecated in Matplotlib 2.1 and will be removed in 3.1. Use 'density' instead.\n",
      "/home/mi/anaconda3/lib/python3.7/site-packages/ipykernel_launcher.py:36: MatplotlibDeprecationWarning: \n",
      "The 'normed' kwarg was deprecated in Matplotlib 2.1 and will be removed in 3.1. Use 'density' instead.\n"
     ]
    },
    {
     "data": {
      "text/plain": [
       "<matplotlib.legend.Legend at 0x7f2776468860>"
      ]
     },
     "execution_count": 21,
     "metadata": {},
     "output_type": "execute_result"
    },
    {
     "data": {
      "image/png": "[encoded data removed]",
      "text/plain": [
       "<Figure size 432x288 with 1 Axes>"
      ]
     },
     "metadata": {
      "needs_background": "light"
     },
     "output_type": "display_data"
    }
   ],
   "source": [
    "for p in ['x1','c']:\n",
    "    for label,salt2p in zip(['sncosmo','snana'],[salt2par_sncosmo,salt2par_snana]): \n",
    "        if p == 'x1':\n",
    "            bins = np.linspace(-5,5,20)\n",
    "        else:\n",
    "            bins = np.linspace(-1,2,20)\n",
    "        salt2p[p].hist(bins=bins,normed=True,histtype='step',lw=2,label=label)\n",
    "    plt.title(p)\n",
    "    plt.legend()\n",
    "    plt.show()\n",
    "for label,salt2p in zip(['sncosmo','snana'],[salt2par_sncosmo,salt2par_snana]): \n",
    "    if label == 'sncosmo':\n",
    "        reduced_chisq = salt2p['chisq']/salt2p['ndof']\n",
    "    else:\n",
    "        reduced_chisq = salt2p['FITCHI2']/salt2p['NDOF']\n",
    "    plt.hist(reduced_chisq[np.isfinite(reduced_chisq)],bins=np.linspace(0,20,20),normed=True,histtype='step',lw=2,label=label)\n",
    "plt.title('reduced chisq')\n",
    "plt.legend()\n",
    "plt.show()\n",
    "for p in ['x1','c']:\n",
    "    for label,salt2p in zip(['sncosmo','snana'],[salt2par_sncosmo,salt2par_snana]): \n",
    "        if label == 'sncosmo':\n",
    "            perr = salt2p[p+'_err']\n",
    "        else:\n",
    "            perr = salt2p[p+'ERR']\n",
    "        if p == 'x1':\n",
    "            bins = np.linspace(0,1,20)\n",
    "        else:\n",
    "            bins = np.linspace(0,0.2,20)\n",
    "        plt.hist(perr,bins=bins,normed=True,histtype='step',lw=2,label=label)\n",
    "    plt.title(p+'_error')\n",
    "    plt.legend()\n",
    "    plt.show()\n",
    "bins = np.linspace(0,10,20)\n",
    "plt.hist(salt2par_sncosmo['t0_err'],label='sncosmo',bins=bins,histtype='step',normed=True,lw=2)\n",
    "plt.hist(salt2par_snana['PKMJDERR'],label='snana',bins=bins,histtype='step',normed=True,lw=2)\n",
    "plt.title('t0_error')\n",
    "plt.legend()"
   ]
  },
  {
   "cell_type": "code",
   "execution_count": 6,
   "metadata": {},
   "outputs": [],
   "source": [
    "df = salt2par_sncosmo.merge(salt2par_snana,on=['Name_upper','Survey'],suffixes=['_sncosmo','_snana'])"
   ]
  },
  {
   "cell_type": "code",
   "execution_count": 7,
   "metadata": {},
   "outputs": [
    {
     "data": {
      "image/png": "[encoded data removed]",
      "text/plain": [
       "<Figure size 432x288 with 1 Axes>"
      ]
     },
     "metadata": {
      "needs_background": "light"
     },
     "output_type": "display_data"
    },
    {
     "data": {
      "image/png": "[encoded data removed]",
      "text/plain": [
       "<Figure size 432x288 with 1 Axes>"
      ]
     },
     "metadata": {
      "needs_background": "light"
     },
     "output_type": "display_data"
    },
    {
     "data": {
      "image/png": "[encoded data removed]",
      "text/plain": [
       "<Figure size 432x288 with 1 Axes>"
      ]
     },
     "metadata": {
      "needs_background": "light"
     },
     "output_type": "display_data"
    },
    {
     "data": {
      "image/png": "[encoded data removed]",
      "text/plain": [
       "<Figure size 432x288 with 1 Axes>"
      ]
     },
     "metadata": {
      "needs_background": "light"
     },
     "output_type": "display_data"
    },
    {
     "data": {
      "image/png": "[encoded data removed]",
      "text/plain": [
       "<Figure size 432x288 with 1 Axes>"
      ]
     },
     "metadata": {
      "needs_background": "light"
     },
     "output_type": "display_data"
    },
    {
     "data": {
      "image/png": "[encoded data removed]",
      "text/plain": [
       "<Figure size 432x288 with 1 Axes>"
      ]
     },
     "metadata": {
      "needs_background": "light"
     },
     "output_type": "display_data"
    }
   ],
   "source": [
    "for p in ['x1','c']:\n",
    "    plt.hist(df[p+'_sncosmo']-df[p+'_snana'],label=p,bins=np.linspace(-0.1,0.1,30))\n",
    "    plt.title('{}_sncosmo-{}_snana'.format(p,p))\n",
    "    plt.show()\n",
    "    plt.hist(df[p+'_err']/df[p+'ERR'],bins=np.linspace(0,2,30))\n",
    "    plt.title('{}_err_sncosmo/{}_err_snana'.format(p,p))\n",
    "    plt.show()\n",
    "    plt.hist((df[p+'_sncosmo']-df[p+'_snana'])/df[p+'_err'],bins=np.linspace(-1,1,30),label='err = sncosmo_err')\n",
    "    plt.hist((df[p+'_sncosmo']-df[p+'_snana'])/df[p+'ERR'],bins=np.linspace(-1,1,30),label='err = snana_err')\n",
    "    plt.title('({}_sncosmo-{}_snana)/err'.format(p,p))\n",
    "    plt.legend()\n",
    "    plt.show()"
   ]
  },
  {
   "cell_type": "code",
   "execution_count": 8,
   "metadata": {},
   "outputs": [
    {
     "data": {
      "image/png": "[encoded data removed]",
      "text/plain": [
       "<Figure size 432x288 with 1 Axes>"
      ]
     },
     "metadata": {
      "needs_background": "light"
     },
     "output_type": "display_data"
    }
   ],
   "source": [
    "plt.errorbar(df['c_sncosmo'],df['c_snana'],xerr=df['c_err'],yerr=df['cERR'],fmt='o')\n",
    "x = np.linspace(-0.5,1,100)\n",
    "plt.plot(x,x,color='g',lw=2,ls='--')\n",
    "plt.xlabel('c_sncosmo')\n",
    "plt.ylabel('c_snana')\n",
    "plt.xlim(-0.5,1.1)\n",
    "plt.ylim(-0.5,1.1)\n",
    "plt.show()"
   ]
  },
  {
   "cell_type": "code",
   "execution_count": 9,
   "metadata": {},
   "outputs": [
    {
     "data": {
      "text/plain": [
       "Index(['Unnamed: 0', 'c_sncosmo', 'c_c_cov', 'c_err', 'c_mwebv_cov',\n",
       "       'c_t0_cov', 'c_x0_cov', 'c_x1_cov', 'c_z_cov', 'chisq',\n",
       "       ...\n",
       "       'x0ERR', 'COV_x1_c', 'COV_x1_x0', 'COV_c_x0', 'NDOF', 'FITCHI2',\n",
       "       'FITPROB', 'x0_offset', 'first_fitmjd_snana', 'last_fitmjd_snana'],\n",
       "      dtype='object', length=103)"
      ]
     },
     "execution_count": 9,
     "metadata": {},
     "output_type": "execute_result"
    }
   ],
   "source": [
    "df.columns"
   ]
  },
  {
   "cell_type": "code",
   "execution_count": 10,
   "metadata": {},
   "outputs": [
    {
     "data": {
      "text/html": [
       "<div>\n",
       "<style scoped>\n",
       "    .dataframe tbody tr th:only-of-type {\n",
       "        vertical-align: middle;\n",
       "    }\n",
       "\n",
       "    .dataframe tbody tr th {\n",
       "        vertical-align: top;\n",
       "    }\n",
       "\n",
       "    .dataframe thead th {\n",
       "        text-align: right;\n",
       "    }\n",
       "</style>\n",
       "<table border=\"1\" class=\"dataframe\">\n",
       "  <thead>\n",
       "    <tr style=\"text-align: right;\">\n",
       "      <th></th>\n",
       "      <th>Name</th>\n",
       "      <th>mwebv</th>\n",
       "      <th>MWEBV</th>\n",
       "    </tr>\n",
       "  </thead>\n",
       "  <tbody>\n",
       "  </tbody>\n",
       "</table>\n",
       "</div>"
      ],
      "text/plain": [
       "Empty DataFrame\n",
       "Columns: [Name, mwebv, MWEBV]\n",
       "Index: []"
      ]
     },
     "execution_count": 10,
     "metadata": {},
     "output_type": "execute_result"
    }
   ],
   "source": [
    "df[(np.absolute(df['mwebv']-df['MWEBV']))>1.e-5][['Name','mwebv','MWEBV']]"
   ]
  },
  {
   "cell_type": "code",
   "execution_count": 11,
   "metadata": {},
   "outputs": [
    {
     "data": {
      "text/plain": [
       "array(['SN2008J', 'SN2008FF', 'SN2001C', 'SN2005EW', 'SN2008AD',\n",
       "       'MASTERJ151647.17', 'SN1990T'], dtype=object)"
      ]
     },
     "execution_count": 11,
     "metadata": {},
     "output_type": "execute_result"
    }
   ],
   "source": [
    "df.loc[df['c_err']>0.5,'Name_upper'].unique()"
   ]
  },
  {
   "cell_type": "code",
   "execution_count": 12,
   "metadata": {},
   "outputs": [
    {
     "data": {
      "text/plain": [
       "array(['SN2004DT', 'SN2005HK', 'SN2006X', 'SN2006BD', 'SN2006BR',\n",
       "       'SN2006OT', 'SN2007AL', 'SN2007IF', 'SN2007SO', 'SN2008J',\n",
       "       'SN2008AE', 'SN2008BI', 'SN2008CD', 'SN2008FF', 'SN2009I',\n",
       "       'SN1998D', 'SN1999CL', 'SN1997CN', 'SN2001C', 'SN2001V',\n",
       "       'SN2001FH', 'SN2001GB', 'SN2003CG', 'SN2006BZ', 'SN2006CM',\n",
       "       'SN2006KE', 'SN2006MQ', 'SN2006OR', 'SN2007BJ', 'SN2007CF',\n",
       "       'SN2007HG', 'SN2008AD', 'SN2008AI', 'SN2008BW', 'SN2008DT',\n",
       "       'AT2016GKY', 'AT2016HNK', 'ASASSN-15SB', 'MASTERJ222232.87',\n",
       "       'PS15CFN', 'SN2016BLH', 'SN2006E', 'SN2010IH', 'SN2011FE',\n",
       "       'SN1990Y', 'SN1990T'], dtype=object)"
      ]
     },
     "execution_count": 12,
     "metadata": {},
     "output_type": "execute_result"
    }
   ],
   "source": [
    "df.loc[np.absolute(df['c_sncosmo']-df['c_snana'])>0.2,'Name_upper'].unique()"
   ]
  },
  {
   "cell_type": "code",
   "execution_count": 22,
   "metadata": {},
   "outputs": [],
   "source": [
    "# plotlist = ['SN2005KU']\n",
    "# plotlist = df.loc[df['t0_err']>0.5,'Name_upper'].values\n",
    "# plotlist = df.loc[np.absolute(df['c_sncosmo']-df['c_snana'])>0.2,'Name_upper'].unique()\n",
    "plotlist = df.loc[(df['t0_err']>2) | (df['PKMJDERR']>2),'Name_upper'].values"
   ]
  },
  {
   "cell_type": "code",
   "execution_count": 23,
   "metadata": {},
   "outputs": [
    {
     "name": "stderr",
     "output_type": "stream",
     "text": [
      "/home/mi/anaconda3/lib/python3.7/site-packages/IPython/core/interactiveshell.py:2714: DtypeWarning: Columns (10,11) have mixed types.Specify dtype option on import or set low_memory=False.\n",
      "  interactivity=interactivity, compiler=compiler, result=result)\n",
      "/home/mi/anaconda3/lib/python3.7/site-packages/ipykernel_launcher.py:35: RuntimeWarning: divide by zero encountered in double_scalars\n"
     ]
    },
    {
     "name": "stdout",
     "output_type": "stream",
     "text": [
      "0 SN2008J\n",
      "1 SN2008FF\n",
      "2 SN1998D\n",
      "3 SN1998EG\n",
      "4 SN2001C\n",
      "5 SN2001IC\n",
      "Error in CfA3-R4Shooter band lc\n",
      "6 SN2003K\n",
      "7 SN2003AI\n",
      "8 SN2005EW\n",
      "9 SN2006AH\n",
      "10 SN2006CT\n",
      "11 SN2008AD\n",
      "12 SN2016EJA\n",
      "13 ATLAS16EEJ\n",
      "14 SN2001BP\n",
      "15 ASASSN-14AD\n",
      "16 LSQ13CRF\n",
      "17 LSQ11OT\n",
      "18 ASASSN-15TS\n",
      "19 SN1993AH\n",
      "20 SN1990T\n"
     ]
    }
   ],
   "source": [
    "from matplotlib.backends.backend_pdf import PdfPages\n",
    "pdf = PdfPages('plots/large_t0_err.pdf')\n",
    "meta_df = pd.read_csv('data/snmeta_all.csv',index_col=0) \n",
    "lc_df = pd.read_csv('data/snlc_all.csv',index_col=0)\n",
    "for i,name in enumerate(plotlist): #common_list:\n",
    "    print(i,name)\n",
    "    name = name.upper()\n",
    "    meta,lc = ss.get_photometry_single_sn(name,df_meta=meta_df,df_lc=lc_df)\n",
    "    for s in ss.commonElements([salt2par_sncosmo.loc[salt2par_sncosmo.Name_upper==name].Survey.unique(),\n",
    "                                salt2par_snana.loc[salt2par_snana.Name_upper==name].Survey.unique()]):\n",
    "        try:\n",
    "            data = ss.convert_lc_for_sncosmo(lc.loc[lc.Survey==s],select_filts='BVRIgriz')\n",
    "        except:\n",
    "            print(\"failed to get photometry for {}, {}\".format(name,s))\n",
    "            continue\n",
    "        psncosmo = salt2par_sncosmo.loc[(salt2par_sncosmo.Name_upper==name) & (salt2par_sncosmo.Survey==s)]\n",
    "        psnana = salt2par_snana.loc[(salt2par_snana.Name_upper ==name) & (salt2par_snana.Survey==s)]\n",
    "        models = []\n",
    "        text = ','.join([name,s])\n",
    "        text += '\\n'\n",
    "        for pname,source in zip([psncosmo,psnana],['sncosmo','snana']):\n",
    "            pmap = ss.get_lcpar_map(source=source)\n",
    "            model = ss.update_sncosmo_model(pname,pmap)\n",
    "            models.append(model)\n",
    "            text += '[{}] '.format(source)\n",
    "            for p,v in zip(model.param_names,model.parameters):\n",
    "                if p=='t0':\n",
    "                    text += '{}={:.2f}, '.format(p,v) \n",
    "                else:\n",
    "                    text += '{}={:.4f}, '.format(p,v)\n",
    "            if source == 'sncosmo':\n",
    "                text += 'fitbands={}, '.format(pname['bands'].values[0].strip())\n",
    "                text += '\\nchisq={:.2f}, '.format(pname['chisq'].values[0])\n",
    "                text += 'ndof={}, '.format(pname['ndof'].values[0])\n",
    "                text += 'reduced_chisq={:.2f}, '.format(pname['chisq'].values[0]/pname['ndof'].values[0])\n",
    "            elif source == 'snana':\n",
    "                text += '\\nchisq={:.2f}, '.format(pname['FITCHI2'].values[0])\n",
    "                text += 'ndof={}, '.format(pname['NDOF'].values[0])\n",
    "                text += 'reduced_chisq={:.2f}, '.format(pname['FITCHI2'].values[0]/pname['NDOF'].values[0])\n",
    "            text += 'first_fitmjd={:.2f}, '.format(pname['first_fitmjd'].values[0])\n",
    "            text += 'last_fitmjd={:.2f}'.format(pname['last_fitmjd'].values[0])\n",
    "            text += '\\n'\n",
    "            \n",
    "            data_chisq = data[[x.split('-')[1][0] in 'BVRIgriz' for x in data['Filter']]]\n",
    "\n",
    "        fig = ss.compare_model_sncosmo(data=data,models=models,model_label=['sncosmo','snana'],figtext=text,\n",
    "                                       fname=pdf, format='pdf')\n",
    "pdf.close()"
   ]
  },
  {
   "cell_type": "code",
   "execution_count": null,
   "metadata": {},
   "outputs": [],
   "source": []
  }
 ],
 "metadata": {
  "kernelspec": {
   "display_name": "Python 3",
   "language": "python",
   "name": "python3"
  },
  "language_info": {
   "codemirror_mode": {
    "name": "ipython",
    "version": 3
   },
   "file_extension": ".py",
   "mimetype": "text/x-python",
   "name": "python",
   "nbconvert_exporter": "python",
   "pygments_lexer": "ipython3",
   "version": "3.7.3"
  }
 },
 "nbformat": 4,
 "nbformat_minor": 4
}
